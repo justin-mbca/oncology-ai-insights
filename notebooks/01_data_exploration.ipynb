{
 "cells": [
  {
   "cell_type": "markdown",
   "id": "9f06e834",
   "metadata": {},
   "source": [
    "# Oncology RWD: Data Exploration\n",
    "This notebook explores synthetic oncology patient data, simulating EHR and biomarker records."
   ]
  },
  {
   "cell_type": "code",
   "execution_count": null,
   "id": "a51fb3f6",
   "metadata": {},
   "outputs": [],
   "source": [
    "# Import libraries\n",
    "import pandas as pd\n",
    "import matplotlib.pyplot as plt\n",
    "import seaborn as sns"
   ]
  },
  {
   "cell_type": "code",
   "execution_count": null,
   "id": "48479ace",
   "metadata": {},
   "outputs": [],
   "source": [
    "# Load synthetic data\n",
    "df = pd.read_csv('../data/synthetic_oncology_patients.csv')\n",
    "df.head()"
   ]
  },
  {
   "cell_type": "markdown",
   "id": "ba0324c5",
   "metadata": {},
   "source": [
    "## Patient Demographics"
   ]
  },
  {
   "cell_type": "code",
   "execution_count": null,
   "id": "525868d7",
   "metadata": {},
   "outputs": [],
   "source": [
    "# Demographic summary\n",
    "df[['age', 'gender', 'cancer_type', 'stage']].describe(include='all')"
   ]
  },
  {
   "cell_type": "markdown",
   "id": "f872f204",
   "metadata": {},
   "source": [
    "## Cancer Type Distribution"
   ]
  },
  {
   "cell_type": "code",
   "execution_count": null,
   "id": "8b89480d",
   "metadata": {},
   "outputs": [],
   "source": [
    "sns.countplot(data=df, x='cancer_type', hue='gender')\n",
    "plt.title('Cancer Type by Gender')\n",
    "plt.show()"
   ]
  },
  {
   "cell_type": "markdown",
   "id": "d158309e",
   "metadata": {},
   "source": [
    "## Biomarker Status vs. Treatment"
   ]
  },
  {
   "cell_type": "code",
   "execution_count": null,
   "id": "a878a045",
   "metadata": {},
   "outputs": [],
   "source": [
    "pd.crosstab(df['biomarker_status'], df['treatment'])"
   ]
  },
  {
   "cell_type": "markdown",
   "id": "50dd531c",
   "metadata": {},
   "source": [
    "## Survival Analysis (Simple)"
   ]
  },
  {
   "cell_type": "code",
   "execution_count": null,
   "id": "8a9cf12f",
   "metadata": {},
   "outputs": [],
   "source": [
    "sns.histplot(df['survival_months'], bins=8, kde=True)\n",
    "plt.xlabel('Survival (months)')\n",
    "plt.title('Distribution of Survival Time')\n",
    "plt.show()"
   ]
  }
 ],
 "metadata": {
  "language_info": {
   "name": "python"
  }
 },
 "nbformat": 4,
 "nbformat_minor": 5
}
